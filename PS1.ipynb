{
 "cells": [
  {
   "cell_type": "code",
   "execution_count": 7,
   "id": "69c643c1-468d-4a3a-b4d4-c3b401f40ed3",
   "metadata": {},
   "outputs": [
    {
     "name": "stdout",
     "output_type": "stream",
     "text": [
      "Prapti Devadhe TBCO22110\n"
     ]
    },
    {
     "name": "stdin",
     "output_type": "stream",
     "text": [
      "Enter the number of vertices:  5\n",
      "Enter a vertex:  A\n",
      "Enter its neighbors (separated by spaces):  B C\n",
      "Enter a vertex:  B\n",
      "Enter its neighbors (separated by spaces):  A D\n",
      "Enter a vertex:  C\n",
      "Enter its neighbors (separated by spaces):  A E \n",
      "Enter a vertex:  D\n",
      "Enter its neighbors (separated by spaces):  B\n",
      "Enter a vertex:  E\n",
      "Enter its neighbors (separated by spaces):  C\n",
      "Enter the starting vertex:  A\n",
      "Enter the goal vertex:  D\n"
     ]
    },
    {
     "name": "stdout",
     "output_type": "stream",
     "text": [
      "Recursive DFS traversal (until goal node):\n",
      "A\n",
      "B\n",
      "D\n",
      "Goal node found!\n"
     ]
    },
    {
     "data": {
      "text/plain": [
       "True"
      ]
     },
     "execution_count": 7,
     "metadata": {},
     "output_type": "execute_result"
    }
   ],
   "source": [
    "from collections import defaultdict\n",
    "\n",
    "# Recursive DFS with goal node\n",
    "def dfs_recursive(graph, vertex, visited, goal):\n",
    "    if vertex not in visited:\n",
    "        print(vertex)\n",
    "        visited.add(vertex)\n",
    "        if vertex == goal:\n",
    "            print(\"Goal node found!\")\n",
    "            return True  # Stop recursion\n",
    "        for neighbor in sorted(graph[vertex]):\n",
    "            if dfs_recursive(graph, neighbor, visited, goal):\n",
    "                return True  # Propagate stop signal\n",
    "    return False\n",
    "\n",
    "# Main part\n",
    "print(\"Prapti Devadhe TBCO22110\")\n",
    "graph = defaultdict(set)\n",
    "\n",
    "num_vertices = int(input(\"Enter the number of vertices: \"))\n",
    "\n",
    "for _ in range(num_vertices):\n",
    "    vertex = input(\"Enter a vertex: \")\n",
    "    neighbors = input(\"Enter its neighbors (separated by spaces): \").split()\n",
    "    graph[vertex].update(neighbors)\n",
    "    for neighbor in neighbors:\n",
    "        graph[neighbor].add(vertex)  # Ensures undirected graph\n",
    "\n",
    "start_vertex = input(\"Enter the starting vertex: \")\n",
    "goal_vertex = input(\"Enter the goal vertex: \")\n",
    "\n",
    "print(\"Recursive DFS traversal (until goal node):\")\n",
    "visited_set = set()\n",
    "dfs_recursive(graph, start_vertex, visited_set, goal_vertex)\n"
   ]
  },
  {
   "cell_type": "code",
   "execution_count": null,
   "id": "1e42e4eb-ecaf-42f4-a534-da8bf837677a",
   "metadata": {},
   "outputs": [],
   "source": []
  }
 ],
 "metadata": {
  "kernelspec": {
   "display_name": "Python [conda env:base] *",
   "language": "python",
   "name": "conda-base-py"
  },
  "language_info": {
   "codemirror_mode": {
    "name": "ipython",
    "version": 3
   },
   "file_extension": ".py",
   "mimetype": "text/x-python",
   "name": "python",
   "nbconvert_exporter": "python",
   "pygments_lexer": "ipython3",
   "version": "3.12.7"
  }
 },
 "nbformat": 4,
 "nbformat_minor": 5
}
