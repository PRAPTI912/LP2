{
 "cells": [
  {
   "cell_type": "code",
   "execution_count": 1,
   "id": "16bb9a47-ece3-41c3-90f6-638a91672535",
   "metadata": {},
   "outputs": [
    {
     "name": "stdout",
     "output_type": "stream",
     "text": [
      "Prapti Devadhe TBCO22110\n"
     ]
    },
    {
     "name": "stdin",
     "output_type": "stream",
     "text": [
      "Enter the number of vertices:  5\n",
      "Enter a vertex:  A\n",
      "Enter its neighbors (separated by spaces):  B C \n",
      "Enter a vertex:  B\n",
      "Enter its neighbors (separated by spaces):  A D \n",
      "Enter a vertex:  C \n",
      "Enter its neighbors (separated by spaces):  A E \n",
      "Enter a vertex:  D\n",
      "Enter its neighbors (separated by spaces):  B\n",
      "Enter a vertex:  E\n",
      "Enter its neighbors (separated by spaces):  C\n",
      "Enter the starting vertex:  A\n",
      "Enter the goal vertex:  D\n"
     ]
    },
    {
     "name": "stdout",
     "output_type": "stream",
     "text": [
      "Recursive BFS traversal (until goal node):\n",
      "A\n",
      "B\n",
      "C\n",
      "C \n",
      "D\n",
      "Goal node found!\n"
     ]
    }
   ],
   "source": [
    "from collections import defaultdict, deque\n",
    "\n",
    "# Recursive BFS with goal node\n",
    "def bfs_recursive(graph, queue, visited, goal):\n",
    "    if not queue:\n",
    "        return\n",
    "    vertex = queue.popleft()\n",
    "    print(vertex)\n",
    "    if vertex == goal:\n",
    "        print(\"Goal node found!\")\n",
    "        return\n",
    "    for neighbor in sorted(graph[vertex]):\n",
    "        if neighbor not in visited:\n",
    "            visited.add(neighbor)\n",
    "            queue.append(neighbor)\n",
    "    bfs_recursive(graph, queue, visited, goal)\n",
    "\n",
    "# Main part\n",
    "print(\"Prapti Devadhe TBCO22110\")\n",
    "graph = defaultdict(set)\n",
    "\n",
    "num_vertices = int(input(\"Enter the number of vertices: \"))\n",
    "\n",
    "for _ in range(num_vertices):\n",
    "    vertex = input(\"Enter a vertex: \")\n",
    "    neighbors = input(\"Enter its neighbors (separated by spaces): \").split()\n",
    "    graph[vertex].update(neighbors)\n",
    "    for neighbor in neighbors:\n",
    "        graph[neighbor].add(vertex)  # Undirected graph\n",
    "\n",
    "start_vertex = input(\"Enter the starting vertex: \")\n",
    "goal_vertex = input(\"Enter the goal vertex: \")\n",
    "\n",
    "print(\"Recursive BFS traversal (until goal node):\")\n",
    "visited_set = set([start_vertex])\n",
    "bfs_queue = deque([start_vertex])\n",
    "bfs_recursive(graph, bfs_queue, visited_set, goal_vertex)\n"
   ]
  },
  {
   "cell_type": "code",
   "execution_count": null,
   "id": "1a4b0197-a0a8-4af5-926e-30d6949d3647",
   "metadata": {},
   "outputs": [],
   "source": []
  }
 ],
 "metadata": {
  "kernelspec": {
   "display_name": "Python [conda env:base] *",
   "language": "python",
   "name": "conda-base-py"
  },
  "language_info": {
   "codemirror_mode": {
    "name": "ipython",
    "version": 3
   },
   "file_extension": ".py",
   "mimetype": "text/x-python",
   "name": "python",
   "nbconvert_exporter": "python",
   "pygments_lexer": "ipython3",
   "version": "3.12.7"
  }
 },
 "nbformat": 4,
 "nbformat_minor": 5
}
